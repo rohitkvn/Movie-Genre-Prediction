{
  "nbformat": 4,
  "nbformat_minor": 0,
  "metadata": {
    "colab": {
      "name": "DIC_PySpark_Part2.ipynb",
      "provenance": [],
      "collapsed_sections": []
    },
    "kernelspec": {
      "name": "python3",
      "display_name": "Python 3"
    }
  },
  "cells": [
    {
      "cell_type": "code",
      "metadata": {
        "id": "wEYVVO555Lli",
        "colab_type": "code",
        "colab": {}
      },
      "source": [
        "!apt-get install openjdk-8-jdk-headless -qq > /dev/null\n",
        "!wget -q https://archive.apache.org/dist/spark/spark-2.4.0/spark-2.4.0-bin-hadoop2.7.tgz\n",
        "!tar xf spark-2.4.0-bin-hadoop2.7.tgz\n",
        "!pip install -q findspark\n"
      ],
      "execution_count": null,
      "outputs": []
    },
    {
      "cell_type": "code",
      "metadata": {
        "id": "8YRSZ6kK3Qer",
        "colab_type": "code",
        "colab": {
          "base_uri": "https://localhost:8080/",
          "height": 52
        },
        "outputId": "19bfa804-219d-4ddf-cbae-97e590dde17a"
      },
      "source": [
        "import os\n",
        "os.environ[\"JAVA_HOME\"] = \"/usr/lib/jvm/java-8-openjdk-amd64\"\n",
        "os.environ[\"SPARK_HOME\"] = \"/content/spark-2.4.0-bin-hadoop2.7\"\n",
        "\n",
        "import findspark\n",
        "findspark.init()\n",
        "from pyspark.sql import SparkSession\n",
        "spark = SparkSession.builder.master(\"local[*]\").getOrCreate()\n",
        "# spark = SparkSession.builder.master(\"local[*]\")\\\n",
        "#         .config(\"spark.executor.memory\", \"16g\")\\\n",
        "#         .config(\"spark.driver.memory\", \"16g\")\\\n",
        "#         .config(\"spark.memory.offHeap.enabled\",'true')\\\n",
        "#         .config(\"spark.memory.offHeap.size\",\"16g\")\\\n",
        "#         .getOrCreate()\n",
        "\n",
        "\n",
        "!ls"
      ],
      "execution_count": null,
      "outputs": [
        {
          "output_type": "stream",
          "text": [
            "drive\t     spark-2.4.0-bin-hadoop2.7\t    test.csv\n",
            "sample_data  spark-2.4.0-bin-hadoop2.7.tgz  train.csv\n"
          ],
          "name": "stdout"
        }
      ]
    },
    {
      "cell_type": "code",
      "metadata": {
        "id": "HoHi4QdC5apa",
        "colab_type": "code",
        "colab": {}
      },
      "source": [
        "import numpy as np\n",
        "import pandas as pd\n",
        "from ast import literal_eval \n",
        "import pyspark.sql.functions as F\n",
        "from pyspark.sql.functions import udf\n",
        "from pyspark.sql.types import StringType, IntegerType, ArrayType\n",
        "from pyspark.ml import Pipeline\n",
        "from pyspark.ml.feature import StopWordsRemover\n",
        "from pyspark.ml.feature import Tokenizer, RegexTokenizer\n",
        "from pyspark.ml.feature import HashingTF, IDF\n",
        "from pyspark.sql.functions import regexp_replace,col,array_contains,explode\n",
        "from pyspark.sql.functions import split\n",
        "from pyspark.sql.functions import monotonically_increasing_id\n",
        "from functools import reduce\n",
        "from pyspark.sql.functions import concat_ws\n",
        "from pyspark.ml.classification import LogisticRegression\n",
        "from pyspark.ml.classification import LinearSVC"
      ],
      "execution_count": null,
      "outputs": []
    },
    {
      "cell_type": "code",
      "metadata": {
        "id": "76Y4Nnuc6OK5",
        "colab_type": "code",
        "colab": {}
      },
      "source": [
        "pd_df = pd.read_csv(r'train.csv')\n",
        "\n",
        "data_spark_df = spark.createDataFrame(pd_df)\n",
        "pd_df['genre']= pd_df['genre'].apply(literal_eval)\n",
        "all_genre = pd_df['genre'].to_list()\n",
        "names =['Drama','Comedy','Romance Film','Thriller','Action','World cinema','Crime Fiction','Horror','Black-and-white','Indie','Action/Adventure','Adventure','Family Film','Short Film','Romantic drama','Animation','Musical','Science Fiction','Mystery','Romantic comedy']\n",
        "matrix = np.zeros((len(pd_df),len(names)))\n",
        "for i,genre in enumerate(all_genre):\n",
        "  for j,g in enumerate(genre):\n",
        "    for k,name in enumerate(names):\n",
        "        if name==g:\n",
        "          matrix[i][k] = 1\n",
        "names = \"Drama , Comedy , Romance Film , Thriller , Action , World cinema , Crime Fiction , Horror , Black-and-white , Indie , Action/Adventure , Adventure , Family Film , Short Film , Romantic drama , Animation , Musical , Science Fiction , Mystery , Romantic comedy\"\n",
        "np.savetxt(\"genre_lables.csv\", matrix, delimiter=\",\",fmt='%d',header=names)\n"
      ],
      "execution_count": null,
      "outputs": []
    },
    {
      "cell_type": "code",
      "metadata": {
        "id": "4wMajSknMC3W",
        "colab_type": "code",
        "colab": {}
      },
      "source": [
        "lables_df = pd.read_csv(r'genre_lables.csv')\n",
        "test_pd_df = pd.read_csv(r'test.csv')\n",
        "lables_spark_df = spark.createDataFrame(lables_df)\n",
        "test_spark_df = spark.createDataFrame(test_pd_df)"
      ],
      "execution_count": null,
      "outputs": []
    },
    {
      "cell_type": "code",
      "metadata": {
        "id": "lZUNn84K21fS",
        "colab_type": "code",
        "colab": {}
      },
      "source": [
        "ddf1 = data_spark_df.withColumn(\"row_id\", monotonically_increasing_id())\n",
        "ddf2 = lables_spark_df.withColumn(\"row_id\", monotonically_increasing_id())\n",
        "ddf3 = test_spark_df.withColumn(\"row_id\", monotonically_increasing_id())\n",
        "df = ddf1.join(ddf2, \"row_id\").drop(\"row_id\")\n",
        "test_df = ddf3.join(ddf2, \"row_id\").drop(\"row_id\")\n"
      ],
      "execution_count": null,
      "outputs": []
    },
    {
      "cell_type": "code",
      "metadata": {
        "id": "Z593o_L88AEK",
        "colab_type": "code",
        "colab": {
          "base_uri": "https://localhost:8080/",
          "height": 52
        },
        "outputId": "e2af27c6-e137-44bf-d74d-38e711c847fc"
      },
      "source": [
        "%%time\n",
        "regexTokenizer = RegexTokenizer(inputCol=\"plot\", outputCol=\"words\", pattern=\"\\\\W\")\n",
        "hashingTF = HashingTF(inputCol=\"words\", outputCol=\"rawfeatures\")\n",
        "idf = IDF(inputCol=\"rawfeatures\", outputCol=\"features\",minDocFreq=5)\n",
        "pipeline = Pipeline(stages=[regexTokenizer, hashingTF, idf])\n",
        "\n",
        "model = pipeline.fit(df)\n",
        "dataset = model.transform(df)\n",
        "\n",
        "model2 = pipeline.fit(test_df)\n",
        "test_dataset = model2.transform(test_df)"
      ],
      "execution_count": null,
      "outputs": [
        {
          "output_type": "stream",
          "text": [
            "CPU times: user 123 ms, sys: 22.3 ms, total: 146 ms\n",
            "Wall time: 34.2 s\n"
          ],
          "name": "stdout"
        }
      ]
    },
    {
      "cell_type": "code",
      "metadata": {
        "id": "bI_skgB9HaAT",
        "colab_type": "code",
        "colab": {
          "base_uri": "https://localhost:8080/",
          "height": 52
        },
        "outputId": "1219cc69-a7a8-4f2e-90cd-ca4fde7b70b0"
      },
      "source": [
        "%%time\n",
        "dfList = []\n",
        "labelCols = lables_spark_df.columns\n",
        "lr = LogisticRegression(featuresCol = 'features',maxIter=700)\n",
        "for labelCol in labelCols:\n",
        "    lr.setLabelCol(labelCol)\n",
        "    lrModel = lr.fit(dataset)\n",
        "    predictions = lrModel.transform(test_dataset)\n",
        "    predictions = predictions.withColumn(\"prediction\",F.col(\"prediction\").cast(IntegerType()))\n",
        "    dfList.append(predictions.select(\"movie_id\",\"prediction\"))"
      ],
      "execution_count": null,
      "outputs": [
        {
          "output_type": "stream",
          "text": [
            "CPU times: user 26.6 s, sys: 7.78 s, total: 34.3 s\n",
            "Wall time: 56min 22s\n"
          ],
          "name": "stdout"
        }
      ]
    },
    {
      "cell_type": "code",
      "metadata": {
        "id": "6m2q85P2sqBl",
        "colab_type": "code",
        "colab": {
          "base_uri": "https://localhost:8080/",
          "height": 52
        },
        "outputId": "9f1ca3b0-22b4-4bab-85de-ed6e3c3687f2"
      },
      "source": [
        "%%time\n",
        "dfs_renamed = [df.selectExpr('movie_id', f'prediction as prediction_{i}') for i, df in enumerate(dfList)]\n",
        "temp_df = reduce(lambda x, y: x.join(y, ['movie_id'], how='full'), dfs_renamed)\n",
        "col_list = ['prediction_%d' % i for i in range(len(dfList))]\n",
        "temp_df = temp_df.withColumn('predictions',concat_ws(\" \",*col_list)).drop(*col_list).toPandas().to_csv(\"predictions_part2.csv\",index=False)\n"
      ],
      "execution_count": null,
      "outputs": [
        {
          "output_type": "stream",
          "text": [
            "CPU times: user 1.31 s, sys: 312 ms, total: 1.62 s\n",
            "Wall time: 2min 58s\n"
          ],
          "name": "stdout"
        }
      ]
    }
  ]
}