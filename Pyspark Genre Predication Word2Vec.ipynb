{
  "nbformat": 4,
  "nbformat_minor": 0,
  "metadata": {
    "colab": {
      "name": "DIC_PySpark_Part3.ipynb",
      "provenance": [],
      "collapsed_sections": []
    },
    "kernelspec": {
      "name": "python3",
      "display_name": "Python 3"
    }
  },
  "cells": [
    {
      "cell_type": "code",
      "metadata": {
        "id": "M5y_PoKi_4II",
        "colab_type": "code",
        "colab": {}
      },
      "source": [
        "!apt-get install openjdk-8-jdk-headless -qq > /dev/null\n",
        "!wget -q https://archive.apache.org/dist/spark/spark-2.4.0/spark-2.4.0-bin-hadoop2.7.tgz\n",
        "!tar xf spark-2.4.0-bin-hadoop2.7.tgz\n",
        "!pip install -q findspark\n"
      ],
      "execution_count": null,
      "outputs": []
    },
    {
      "cell_type": "code",
      "metadata": {
        "id": "4LE1w8FMBgSy",
        "colab_type": "code",
        "colab": {
          "base_uri": "https://localhost:8080/",
          "height": 70
        },
        "outputId": "1caa3e73-3b2c-49e8-a133-2f5dcc6b3b5a"
      },
      "source": [
        "import os\n",
        "os.environ[\"JAVA_HOME\"] = \"/usr/lib/jvm/java-8-openjdk-amd64\"\n",
        "os.environ[\"SPARK_HOME\"] = \"/content/spark-2.4.0-bin-hadoop2.7\"\n",
        "\n",
        "import findspark\n",
        "findspark.init()\n",
        "from pyspark.sql import SparkSession\n",
        "# spark = SparkSession.builder.master(\"local[*]\").getOrCreate()\n",
        "spark = SparkSession.builder.master(\"local[*]\")\\\n",
        "        .config(\"spark.executor.memory\", \"16g\")\\\n",
        "        .config(\"spark.driver.memory\", \"16g\")\\\n",
        "        .config(\"spark.memory.offHeap.enabled\",'true')\\\n",
        "        .config(\"spark.memory.offHeap.size\",\"16g\")\\\n",
        "        .getOrCreate()\n",
        "\n",
        "!ls"
      ],
      "execution_count": null,
      "outputs": [
        {
          "output_type": "stream",
          "text": [
            "drive\t\t  spark-2.4.0-bin-hadoop2.7\t train.csv\n",
            "genre_lables.csv  spark-2.4.0-bin-hadoop2.7.tgz\n",
            "sample_data\t  test.csv\n"
          ],
          "name": "stdout"
        }
      ]
    },
    {
      "cell_type": "code",
      "metadata": {
        "id": "S_2-mSqruBAg",
        "colab_type": "code",
        "colab": {}
      },
      "source": [
        "import numpy as np\n",
        "import pandas as pd\n",
        "from ast import literal_eval \n",
        "import pyspark.sql.functions as F\n",
        "from pyspark.sql.functions import udf\n",
        "from pyspark.sql.types import StringType, IntegerType, ArrayType\n",
        "from pyspark.ml import Pipeline\n",
        "from pyspark.ml.feature import StopWordsRemover\n",
        "from pyspark.ml.feature import Tokenizer, RegexTokenizer\n",
        "from pyspark.ml.feature import HashingTF, IDF\n",
        "from pyspark.sql.functions import regexp_replace,col,array_contains,explode\n",
        "from pyspark.sql.functions import split\n",
        "from pyspark.sql.functions import monotonically_increasing_id\n",
        "from functools import reduce\n",
        "from pyspark.sql.functions import concat_ws\n",
        "from pyspark.ml.classification import LogisticRegression\n",
        "from pyspark.ml.classification import LinearSVC\n",
        "from pyspark.ml.classification import RandomForestClassifier\n",
        "from pyspark.ml.feature import Word2Vec"
      ],
      "execution_count": null,
      "outputs": []
    },
    {
      "cell_type": "code",
      "metadata": {
        "id": "C7yuAm0Vqvw-",
        "colab_type": "code",
        "colab": {}
      },
      "source": [
        "pd_df = pd.read_csv(r'train.csv')\n",
        "data_spark_df = spark.createDataFrame(pd_df)\n",
        "pd_df['genre']= pd_df['genre'].apply(literal_eval)\n",
        "all_genre = pd_df['genre'].to_list()\n",
        "names =['Drama','Comedy','Romance Film','Thriller','Action','World cinema','Crime Fiction','Horror','Black-and-white','Indie','Action/Adventure','Adventure','Family Film','Short Film','Romantic drama','Animation','Musical','Science Fiction','Mystery','Romantic comedy']\n",
        "matrix = np.zeros((len(pd_df),len(names)))\n",
        "\n",
        "for i,genre in enumerate(all_genre):\n",
        "  for j,g in enumerate(genre):\n",
        "    for k,name in enumerate(names):\n",
        "        if name==g:\n",
        "          matrix[i][k] = 1\n",
        "names = \"Drama , Comedy , Romance Film , Thriller , Action , World cinema , Crime Fiction , Horror , Black-and-white , Indie , Action/Adventure , Adventure , Family Film , Short Film , Romantic drama , Animation , Musical , Science Fiction , Mystery , Romantic comedy\"\n",
        "np.savetxt(\"genre_lables.csv\", matrix, delimiter=\",\",fmt='%d',header=names)\n"
      ],
      "execution_count": null,
      "outputs": []
    },
    {
      "cell_type": "code",
      "metadata": {
        "id": "0MxifttVqz59",
        "colab_type": "code",
        "colab": {}
      },
      "source": [
        "lables_df = pd.read_csv(r'genre_lables.csv')\n",
        "test_pd_df = pd.read_csv(r'test.csv')\n",
        "lables_spark_df = spark.createDataFrame(lables_df)\n",
        "test_spark_df = spark.createDataFrame(test_pd_df)\n",
        "ddf1 = data_spark_df.withColumn(\"row_id\", monotonically_increasing_id())\n",
        "ddf2 = lables_spark_df.withColumn(\"row_id\", monotonically_increasing_id())\n",
        "ddf3 = test_spark_df.withColumn(\"row_id\", monotonically_increasing_id())\n",
        "df = ddf1.join(ddf2, \"row_id\").drop(\"row_id\")\n",
        "test_df = ddf3.join(ddf2, \"row_id\").drop(\"row_id\")"
      ],
      "execution_count": null,
      "outputs": []
    },
    {
      "cell_type": "code",
      "metadata": {
        "id": "8NlOMKtyq4Om",
        "colab_type": "code",
        "colab": {
          "base_uri": "https://localhost:8080/",
          "height": 52
        },
        "outputId": "0baae4a4-3b44-4793-cd5f-7b6364858fc4"
      },
      "source": [
        "%%time\n",
        "tokenizer = Tokenizer(inputCol=\"plot\", outputCol=\"words\")\n",
        "word2Vec = Word2Vec(inputCol=\"words\", outputCol=\"features\", minCount=1)\n",
        "pipeline = Pipeline(stages=[tokenizer, word2Vec])\n",
        "\n",
        "model = pipeline.fit(df)\n",
        "dataset = model.transform(df)\n",
        "\n",
        "model2 = pipeline.fit(test_df)\n",
        "test_dataset = model2.transform(test_df)"
      ],
      "execution_count": null,
      "outputs": [
        {
          "output_type": "stream",
          "text": [
            "CPU times: user 276 ms, sys: 65.5 ms, total: 342 ms\n",
            "Wall time: 7min 38s\n"
          ],
          "name": "stdout"
        }
      ]
    },
    {
      "cell_type": "code",
      "metadata": {
        "id": "YEe1HSvCq6dQ",
        "colab_type": "code",
        "colab": {}
      },
      "source": [
        "train_dataset, validation_dataset = dataset.randomSplit([1.0, 0.0], seed = 123)"
      ],
      "execution_count": null,
      "outputs": []
    },
    {
      "cell_type": "code",
      "metadata": {
        "id": "QrlhQhuxq8EK",
        "colab_type": "code",
        "colab": {
          "base_uri": "https://localhost:8080/",
          "height": 52
        },
        "outputId": "6b597bc3-30a5-46d8-8ecd-570bdccf882b"
      },
      "source": [
        "%%time\n",
        "dfList = []\n",
        "labelCols = lables_spark_df.columns\n",
        "lr = LogisticRegression(featuresCol = 'features',maxIter=700)\n",
        "for labelCol in labelCols:\n",
        "    lr.setLabelCol(labelCol)\n",
        "    lrModel = lr.fit(train_dataset)\n",
        "    predictions = lrModel.transform(test_dataset)\n",
        "    predictions = predictions.drop(\"features\",labelCol,\"rawPrediction\",\"probability\")\n",
        "    predictions = predictions.withColumn(\"prediction\",F.col(\"prediction\").cast(IntegerType()))\n",
        "    dfList.append(predictions.select(\"movie_id\",\"prediction\"))"
      ],
      "execution_count": null,
      "outputs": [
        {
          "output_type": "stream",
          "text": [
            "CPU times: user 1min 7s, sys: 22.2 s, total: 1min 29s\n",
            "Wall time: 46min 12s\n"
          ],
          "name": "stdout"
        }
      ]
    },
    {
      "cell_type": "code",
      "metadata": {
        "id": "d6AYBQciq9a9",
        "colab_type": "code",
        "colab": {
          "base_uri": "https://localhost:8080/",
          "height": 52
        },
        "outputId": "e0301b57-4f33-45df-d531-267aed0a8eb2"
      },
      "source": [
        "%%time\n",
        "dfs_renamed = [df.selectExpr('movie_id', f'prediction as prediction_{i}') for i, df in enumerate(dfList)]\n",
        "temp_df = reduce(lambda x, y: x.join(y, ['movie_id'], how='full'), dfs_renamed)\n",
        "col_list = ['prediction_%d' % i for i in range(len(dfList))]\n",
        "temp_df = temp_df.withColumn('predictions',concat_ws(\" \",*col_list)).drop(*col_list).toPandas().to_csv(\"predictions_part3.csv\",index=False)"
      ],
      "execution_count": null,
      "outputs": [
        {
          "output_type": "stream",
          "text": [
            "CPU times: user 1.51 s, sys: 375 ms, total: 1.88 s\n",
            "Wall time: 2min 48s\n"
          ],
          "name": "stdout"
        }
      ]
    }
  ]
}